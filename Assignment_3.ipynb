{
  "nbformat": 4,
  "nbformat_minor": 0,
  "metadata": {
    "colab": {
      "provenance": [],
      "authorship_tag": "ABX9TyP5yFnkJJAPse31G8JOkbGx",
      "include_colab_link": true
    },
    "kernelspec": {
      "name": "python3",
      "display_name": "Python 3"
    },
    "language_info": {
      "name": "python"
    }
  },
  "cells": [
    {
      "cell_type": "markdown",
      "metadata": {
        "id": "view-in-github",
        "colab_type": "text"
      },
      "source": [
        "<a href=\"https://colab.research.google.com/github/shubrita/TuteDude-/blob/main/Assignment_3.ipynb\" target=\"_parent\"><img src=\"https://colab.research.google.com/assets/colab-badge.svg\" alt=\"Open In Colab\"/></a>"
      ]
    },
    {
      "cell_type": "markdown",
      "source": [
        "Task 1: Calculate Factorial Using a Function\n",
        "\n",
        "\n",
        "Problem Statement: Write a Python program that:\n",
        "1.   Defines a function named factorial that takes a number as an argument and calculates its factorial using a loop or recursion.\n",
        "2.   Returns the calculated factorial.\n",
        "3.   Calls the function with a sample number and prints the output.\n"
      ],
      "metadata": {
        "id": "lisznOIUJbxe"
      }
    },
    {
      "cell_type": "code",
      "source": [
        "# Function to calculate factorial using recursion\n",
        "def factorial(n):\n",
        "    if n < 0:\n",
        "        return \"Factorial does not exist for negative numbers.\"\n",
        "    elif n == 0 or n == 1:\n",
        "        return 1\n",
        "    else:\n",
        "        return n * factorial(n - 1)\n",
        "\n",
        "# Sample number\n",
        "sample_number = 5\n",
        "\n",
        "# Calling the factorial function and printing the result\n",
        "result = factorial(sample_number)\n",
        "print(f\"The factorial of {sample_number} is: {result}\")\n"
      ],
      "metadata": {
        "colab": {
          "base_uri": "https://localhost:8080/"
        },
        "id": "P_LdFcnRJe5g",
        "outputId": "5062bb14-083f-49c6-d76f-d811cc9e06fd"
      },
      "execution_count": 1,
      "outputs": [
        {
          "output_type": "stream",
          "name": "stdout",
          "text": [
            "The factorial of 5 is: 120\n"
          ]
        }
      ]
    },
    {
      "cell_type": "markdown",
      "source": [
        "Task 2: Using the Math Module for Calculations\n",
        "\n",
        "Problem Statement: Write a Python program that:\n",
        "1.   Asks the user for a number as input.\n",
        "2.   Uses the math module to calculate the:\n",
        "o   Square root of the number\n",
        "o   Natural logarithm (log base e) of the number\n",
        "o   Sine of the number (in radians)\n",
        "3.   Displays the calculated results.\n"
      ],
      "metadata": {
        "id": "5j3hmsQjJplS"
      }
    },
    {
      "cell_type": "code",
      "source": [
        "import math\n",
        "\n",
        "# Ask the user for a number\n",
        "try:\n",
        "    number = float(input(\"Enter a number: \"))\n",
        "\n",
        "    # Calculate square root\n",
        "    if number >= 0:\n",
        "        square_root = math.sqrt(number)\n",
        "    else:\n",
        "        square_root = \"Undefined (cannot take square root of a negative number)\"\n",
        "\n",
        "    # Calculate natural logarithm (log base e)\n",
        "    if number > 0:\n",
        "        natural_log = math.log(number)\n",
        "    else:\n",
        "        natural_log = \"Undefined (logarithm only defined for positive numbers)\"\n",
        "\n",
        "    # Calculate sine (input assumed in radians)\n",
        "    sine_value = math.sin(number)\n",
        "\n",
        "    # Display results\n",
        "    print(\"\\nCalculated Results:\")\n",
        "    print(f\"Square Root: {square_root}\")\n",
        "    print(f\"Natural Logarithm (ln): {natural_log}\")\n",
        "    print(f\"Sine (radians): {sine_value}\")\n",
        "\n",
        "except ValueError:\n",
        "    print(\"Invalid input. Please enter a valid number.\")\n"
      ],
      "metadata": {
        "colab": {
          "base_uri": "https://localhost:8080/"
        },
        "id": "C_WUpr59Ji7m",
        "outputId": "03a024b4-dbb9-43e3-8423-e50945d5dddd"
      },
      "execution_count": 4,
      "outputs": [
        {
          "output_type": "stream",
          "name": "stdout",
          "text": [
            "Enter a number: 10\n",
            "\n",
            "Calculated Results:\n",
            "Square Root: 3.1622776601683795\n",
            "Natural Logarithm (ln): 2.302585092994046\n",
            "Sine (radians): -0.5440211108893698\n"
          ]
        }
      ]
    },
    {
      "cell_type": "code",
      "source": [],
      "metadata": {
        "id": "pEYesn9qJvy7"
      },
      "execution_count": null,
      "outputs": []
    }
  ]
}
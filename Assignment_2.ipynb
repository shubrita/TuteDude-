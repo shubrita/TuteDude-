{
  "nbformat": 4,
  "nbformat_minor": 0,
  "metadata": {
    "colab": {
      "provenance": []
    },
    "kernelspec": {
      "name": "python3",
      "display_name": "Python 3"
    },
    "language_info": {
      "name": "python"
    }
  },
  "cells": [
    {
      "cell_type": "markdown",
      "source": [
        "Task 1: Check if a Number is Even or Odd\n",
        "Problem Statement:  Write a Python program that:\n",
        "1. \tTakes an integer input from the user.\n",
        "2. \tChecks whether the number is even or odd using an if-else statement.\n",
        "3. \tDisplays the result accordingly.\n"
      ],
      "metadata": {
        "id": "lisznOIUJbxe"
      }
    },
    {
      "cell_type": "code",
      "source": [
        "# Get input from the user\n",
        "num_str = input(\"Enter an integer: \")\n",
        "\n",
        "# Try to convert the input to an integer\n",
        "try:\n",
        "    num = int(num_str)\n",
        "\n",
        "    # Check if the number is even or odd using the modulo operator\n",
        "    if num % 2 == 0:\n",
        "        print(f\"The number {num} is even.\")\n",
        "    else:\n",
        "        print(f\"The number {num} is odd.\")\n",
        "\n",
        "# Handle the case where the input is not a valid integer\n",
        "except ValueError:\n",
        "    print(\"Invalid input. Please enter an integer.\")"
      ],
      "metadata": {
        "colab": {
          "base_uri": "https://localhost:8080/"
        },
        "id": "P_LdFcnRJe5g",
        "outputId": "b988404c-644e-4846-b95e-6f6e6c313a74"
      },
      "execution_count": 3,
      "outputs": [
        {
          "output_type": "stream",
          "name": "stdout",
          "text": [
            "Enter an integer: 23\n",
            "The number 23 is odd.\n"
          ]
        }
      ]
    },
    {
      "cell_type": "markdown",
      "source": [
        "Task 2: Sum of Integers from 1 to 50 Using a Loop\n",
        "\n",
        "Problem Statement: Write a Python program that:\n",
        "1.   Uses a for loop to iterate over numbers from 1 to 50.\n",
        "2.   Calculates the sum of all integers in this range.\n",
        "3.   Displays the final sum.\n"
      ],
      "metadata": {
        "id": "5j3hmsQjJplS"
      }
    },
    {
      "cell_type": "code",
      "source": [
        "# Initialize a variable to store the sum\n",
        "total_sum = 0\n",
        "\n",
        "# Use a for loop to iterate through numbers from 1 to 50\n",
        "# range(1, 51) generates numbers starting from 1 up to (but not including) 51\n",
        "for number in range(1, 51):\n",
        "    # Add the current number to the total_sum\n",
        "    total_sum += number  # This is shorthand for total_sum = total_sum + number\n",
        "\n",
        "# Display the final sum\n",
        "print(f\"The sum of integers from 1 to 50 is: {total_sum}\")"
      ],
      "metadata": {
        "colab": {
          "base_uri": "https://localhost:8080/"
        },
        "id": "C_WUpr59Ji7m",
        "outputId": "04791aee-88c1-4b98-b8c6-49f3ebb304ae"
      },
      "execution_count": 4,
      "outputs": [
        {
          "output_type": "stream",
          "name": "stdout",
          "text": [
            "The sum of integers from 1 to 50 is: 1275\n"
          ]
        }
      ]
    },
    {
      "cell_type": "code",
      "source": [],
      "metadata": {
        "id": "pEYesn9qJvy7"
      },
      "execution_count": null,
      "outputs": []
    }
  ]
}
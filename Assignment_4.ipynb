{
  "nbformat": 4,
  "nbformat_minor": 0,
  "metadata": {
    "colab": {
      "provenance": [],
      "authorship_tag": "ABX9TyOjv62dQ6FMcsB2mJoGfsvc",
      "include_colab_link": true
    },
    "kernelspec": {
      "name": "python3",
      "display_name": "Python 3"
    },
    "language_info": {
      "name": "python"
    }
  },
  "cells": [
    {
      "cell_type": "markdown",
      "metadata": {
        "id": "view-in-github",
        "colab_type": "text"
      },
      "source": [
        "<a href=\"https://colab.research.google.com/github/shubrita/TuteDude-/blob/main/Assignment_4.ipynb\" target=\"_parent\"><img src=\"https://colab.research.google.com/assets/colab-badge.svg\" alt=\"Open In Colab\"/></a>"
      ]
    },
    {
      "cell_type": "markdown",
      "source": [
        "Task 1: Read a File and Handle Errors\n",
        "Problem Statement:  Write a Python program that:\n",
        "1.   Opens and reads a text file named sample.txt.\n",
        "2.   Prints its content line by line.\n",
        "3.   Handles errors gracefully if the file does not exist."
      ],
      "metadata": {
        "id": "lisznOIUJbxe"
      }
    },
    {
      "cell_type": "code",
      "source": [
        "\n",
        "\n",
        "try:\n",
        "    with open(\"sample.txt\", \"r\") as file:\n",
        "        print(\"File content:\")\n",
        "        for line in file:\n",
        "            print(line.strip())  # strip() removes leading/trailing whitespace\n",
        "except FileNotFoundError:\n",
        "    print(\"Error: The file 'sample.txt' does not exist.\")\n",
        "except Exception as e:\n",
        "    print(f\"An unexpected error occurred: {e}\")\n"
      ],
      "metadata": {
        "colab": {
          "base_uri": "https://localhost:8080/"
        },
        "id": "P_LdFcnRJe5g",
        "outputId": "f00fc170-fca5-40a4-fa6c-382631926150"
      },
      "execution_count": 5,
      "outputs": [
        {
          "output_type": "stream",
          "name": "stdout",
          "text": [
            "Error: The file 'sample.txt' does not exist.\n"
          ]
        }
      ]
    },
    {
      "cell_type": "markdown",
      "source": [
        "Task 2: Write and Append Data to a File\n",
        "\n",
        "Problem Statement: Write a Python program that:\n",
        "1.   Takes user input and writes it to a file named output.txt.\n",
        "2.   Appends additional data to the same file.\n",
        "3.   Reads and displays the final content of the file.\n"
      ],
      "metadata": {
        "id": "5j3hmsQjJplS"
      }
    },
    {
      "cell_type": "code",
      "source": [
        "# Task 2: Write and Append Data to a File\n",
        "\n",
        "# Step 1: Take user input and write to the file\n",
        "user_input = input(\"Enter some text to write to the file: \")\n",
        "with open(\"output.txt\", \"w\") as file:\n",
        "    file.write(user_input + \"\\n\")\n",
        "\n",
        "# Step 2: Take additional input and append to the same file\n",
        "additional_input = input(\"Enter additional text to append to the file: \")\n",
        "with open(\"output.txt\", \"a\") as file:\n",
        "    file.write(additional_input + \"\\n\")\n",
        "\n",
        "# Step 3: Read and display the final content of the file\n",
        "print(\"\\nFinal content of 'output.txt':\")\n",
        "with open(\"output.txt\", \"r\") as file:\n",
        "    for line in file:\n",
        "        print(line.strip())\n"
      ],
      "metadata": {
        "colab": {
          "base_uri": "https://localhost:8080/"
        },
        "id": "C_WUpr59Ji7m",
        "outputId": "357aebc1-45c1-4fcd-e426-6d67da26fb49"
      },
      "execution_count": 6,
      "outputs": [
        {
          "output_type": "stream",
          "name": "stdout",
          "text": [
            "Enter some text to write to the file: Shubham\n",
            "Enter additional text to append to the file: Is hero\n",
            "\n",
            "Final content of 'output.txt':\n",
            "Shubham\n",
            "Is hero\n"
          ]
        }
      ]
    },
    {
      "cell_type": "code",
      "source": [],
      "metadata": {
        "id": "pEYesn9qJvy7"
      },
      "execution_count": 6,
      "outputs": []
    }
  ]
}
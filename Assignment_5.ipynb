{
  "nbformat": 4,
  "nbformat_minor": 0,
  "metadata": {
    "colab": {
      "provenance": [],
      "authorship_tag": "ABX9TyPXErCR+CaX7IXNzl3PoZgb",
      "include_colab_link": true
    },
    "kernelspec": {
      "name": "python3",
      "display_name": "Python 3"
    },
    "language_info": {
      "name": "python"
    }
  },
  "cells": [
    {
      "cell_type": "markdown",
      "metadata": {
        "id": "view-in-github",
        "colab_type": "text"
      },
      "source": [
        "<a href=\"https://colab.research.google.com/github/shubrita/TuteDude-/blob/main/Assignment_5.ipynb\" target=\"_parent\"><img src=\"https://colab.research.google.com/assets/colab-badge.svg\" alt=\"Open In Colab\"/></a>"
      ]
    },
    {
      "cell_type": "markdown",
      "source": [
        "Task 1: Create a Dictionary of Student Marks\n",
        "\n",
        "Problem Statement: Write a Python program that:\n",
        "1.   Creates a dictionary where student names are keys and their marks are values.\n",
        "2.   Asks the user to input a student's name.\n",
        "3.   Retrieves and displays the corresponding marks.\n",
        "4.   If the student’s name is not found, display an appropriate message."
      ],
      "metadata": {
        "id": "lisznOIUJbxe"
      }
    },
    {
      "cell_type": "code",
      "source": [
        "# Step 1: Create a dictionary with student names and their marks\n",
        "student_marks = {\n",
        "    \"Alice\": 85,\n",
        "    \"Bob\": 90,\n",
        "    \"Charlie\": 78,\n",
        "    \"David\": 92,\n",
        "    \"Eva\": 88\n",
        "}\n",
        "\n",
        "# Step 2: Ask the user to input a student's name\n",
        "student_name = input(\"Enter the student's name: \")\n",
        "\n",
        "# Step 3 & 4: Retrieve and display the marks or show an appropriate message\n",
        "if student_name in student_marks:\n",
        "    print(f\"{student_name}'s marks: {student_marks[student_name]}\")\n",
        "else:\n",
        "    print(f\"Student '{student_name}' not found in the records.\")\n"
      ],
      "metadata": {
        "colab": {
          "base_uri": "https://localhost:8080/"
        },
        "id": "P_LdFcnRJe5g",
        "outputId": "6b1ecc02-193f-46fa-99fe-866d72d87720"
      },
      "execution_count": 2,
      "outputs": [
        {
          "output_type": "stream",
          "name": "stdout",
          "text": [
            "Enter the student's name: Alice\n",
            "Alice's marks: 85\n"
          ]
        }
      ]
    },
    {
      "cell_type": "markdown",
      "source": [
        "Task 2: Demonstrate List Slicing\n",
        "Problem Statement: Write a Python program that:\n",
        "1.   Creates a list of numbers from 1 to 10.\n",
        "2.   Extracts the first five elements from the list.\n",
        "3.   Reverses these extracted elements.\n",
        "4.   Prints both the extracted list and the reversed list\n"
      ],
      "metadata": {
        "id": "5j3hmsQjJplS"
      }
    },
    {
      "cell_type": "code",
      "source": [
        "# Step 1: Create a list of numbers from 1 to 10\n",
        "numbers = list(range(1, 11))\n",
        "\n",
        "# Step 2: Extract the first five elements\n",
        "first_five = numbers[:5]\n",
        "\n",
        "# Step 3: Reverse the extracted elements\n",
        "reversed_first_five = first_five[::-1]\n",
        "\n",
        "# Step 4: Print the extracted list and the reversed list\n",
        "print(\"First five elements:\", first_five)\n",
        "print(\"Reversed first five elements:\", reversed_first_five)\n"
      ],
      "metadata": {
        "colab": {
          "base_uri": "https://localhost:8080/"
        },
        "id": "C_WUpr59Ji7m",
        "outputId": "4323c69c-c5af-4fb1-ae36-8cdcad06a1c5"
      },
      "execution_count": 3,
      "outputs": [
        {
          "output_type": "stream",
          "name": "stdout",
          "text": [
            "First five elements: [1, 2, 3, 4, 5]\n",
            "Reversed first five elements: [5, 4, 3, 2, 1]\n"
          ]
        }
      ]
    },
    {
      "cell_type": "code",
      "source": [],
      "metadata": {
        "id": "pEYesn9qJvy7"
      },
      "execution_count": null,
      "outputs": []
    }
  ]
}
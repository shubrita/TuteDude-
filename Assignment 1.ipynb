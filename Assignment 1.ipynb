{
  "nbformat": 4,
  "nbformat_minor": 0,
  "metadata": {
    "colab": {
      "provenance": [],
      "authorship_tag": "ABX9TyOdS38V+EEyqIofhRWMtRR3",
      "include_colab_link": true
    },
    "kernelspec": {
      "name": "python3",
      "display_name": "Python 3"
    },
    "language_info": {
      "name": "python"
    }
  },
  "cells": [
    {
      "cell_type": "markdown",
      "metadata": {
        "id": "view-in-github",
        "colab_type": "text"
      },
      "source": [
        "<a href=\"https://colab.research.google.com/github/shubrita/TuteDude-/blob/main/Assignment%201.ipynb\" target=\"_parent\"><img src=\"https://colab.research.google.com/assets/colab-badge.svg\" alt=\"Open In Colab\"/></a>"
      ]
    },
    {
      "cell_type": "markdown",
      "source": [
        "Task 1: Perform Basic Mathematical Operations\n",
        "Problem Statement: Write a Python program that does the following:\n",
        "1. Takes two numbers as input from the user.\n",
        "2. Performs the basic mathematical operations on these two numbers:\n",
        "o Addition\n",
        "o Subtraction\n",
        "o Multiplication\n",
        "o Division\n",
        "3. Displays the results of each operation on the screen."
      ],
      "metadata": {
        "id": "lisznOIUJbxe"
      }
    },
    {
      "cell_type": "code",
      "source": [
        "# Get input from the user\n",
        "num1_str = input(\"Enter the first number: \")\n",
        "num2_str = input(\"Enter the second number: \")\n",
        "\n",
        "# Convert input strings to numbers (float for division)\n",
        "try:\n",
        "    num1 = float(num1_str)\n",
        "    num2 = float(num2_str)\n",
        "\n",
        "    # Perform calculations\n",
        "    addition = num1 + num2\n",
        "    subtraction = num1 - num2\n",
        "    multiplication = num1 * num2\n",
        "\n",
        "    # Handle division by zero\n",
        "    if num2 == 0:\n",
        "        division = \"Cannot divide by zero\"\n",
        "    else:\n",
        "        division = num1 / num2\n",
        "\n",
        "    # Display results [cite: 3]\n",
        "    print(f\"Addition: {addition}\")\n",
        "    print(f\"Subtraction: {subtraction}\")\n",
        "    print(f\"Multiplication: {multiplication}\")\n",
        "    print(f\"Division: {division}\")\n",
        "\n",
        "except ValueError:\n",
        "    print(\"Invalid input. Please enter numbers only.\")"
      ],
      "metadata": {
        "colab": {
          "base_uri": "https://localhost:8080/"
        },
        "id": "P_LdFcnRJe5g",
        "outputId": "9b161296-ebae-4b23-fd77-d59dc86de8d6"
      },
      "execution_count": null,
      "outputs": [
        {
          "output_type": "stream",
          "name": "stdout",
          "text": [
            "Enter the first number: 100\n",
            "Enter the second number: 500\n",
            "Addition: 600.0\n",
            "Subtraction: -400.0\n",
            "Multiplication: 50000.0\n",
            "Division: 0.2\n"
          ]
        }
      ]
    },
    {
      "cell_type": "markdown",
      "source": [
        "Task 2: Create a Personalized Greeting\n",
        "Problem Statement: Write a Python program that:\n",
        "1. Takes a user's first name and last name as input.\n",
        "2. Concatenates the first name and last name into a full name.\n",
        "3. Prints a personalized greeting message using the full name."
      ],
      "metadata": {
        "id": "5j3hmsQjJplS"
      }
    },
    {
      "cell_type": "code",
      "source": [
        "# Get input from the user\n",
        "first_name = input(\"Enter your first name: \")\n",
        "last_name = input(\"Enter your last name: \")\n",
        "\n",
        "# Concatenate names [cite: 5]\n",
        "full_name = first_name + \" \" + last_name\n",
        "\n",
        "# Print the personalized greeting [cite: 6, 7]\n",
        "print(f\"Hello, {full_name}! Welcome to the Python program.\") #[cite: 8]"
      ],
      "metadata": {
        "colab": {
          "base_uri": "https://localhost:8080/"
        },
        "id": "C_WUpr59Ji7m",
        "outputId": "0f3aba92-d1b5-43db-ed10-c2b63adc65ac"
      },
      "execution_count": null,
      "outputs": [
        {
          "output_type": "stream",
          "name": "stdout",
          "text": [
            "Enter your first name: Shubham\n",
            "Enter your last name: Mandal\n",
            "Hello, Shubham Mandal! Welcome to the Python program.\n"
          ]
        }
      ]
    },
    {
      "cell_type": "code",
      "source": [],
      "metadata": {
        "id": "pEYesn9qJvy7"
      },
      "execution_count": null,
      "outputs": []
    }
  ]
}